{
 "cells": [
  {
   "cell_type": "markdown",
   "metadata": {},
   "source": [
    "### As doenças cardiovasculares são um grupo de doenças do coração e dos vasos sanguíneos e incluem:\n",
    "\n",
    "Doença coronariana – doença dos vasos sanguíneos que irrigam o músculo cardíaco;\n",
    "\n",
    "Doença cerebrovascular – doença dos vasos sanguíneos que irrigam o cérebro;\n",
    "\n",
    "Doença arterial periférica – doença dos vasos sanguíneos que irrigam os membros superiores e inferiores;\n",
    "\n",
    "Doença cardíaca reumática – danos no músculo do coração e válvulas cardíacas devido à febre reumática, causada por bactérias estreptocócicas;\n",
    "\n",
    "Cardiopatia congênita – malformações na estrutura do coração existentes desde o momento do nascimento;\n",
    "\n",
    "Trombose venosa profunda e embolia pulmonar – coágulos sanguíneos nas veias das pernas, que podem se desalojar e se mover para o coração e pulmões.\n",
    "\n",
    "==================================================================================================================\n",
    "\n",
    "Ataques cardíacos e acidentes vasculares cerebrais geralmente são eventos agudos causados principalmente por um bloqueio que impede que o sangue flua para o coração ou para o cérebro. A razão mais comum para isso é o acúmulo de depósitos de gordura (ateromas) nas paredes internas dos vasos sanguíneos que irrigam o coração ou o cérebro. Os acidentes vasculares cerebrais também podem ser causados por uma hemorragia em vasos sanguíneos do cérebro ou a partir de coágulos de sangue. A causa de ataques cardíacos e AVCs geralmente são uma combinação de fatores de risco, como o uso de tabaco, dietas inadequadas e obesidade, sedentarismo e o uso nocivo do álcool, hipertensão, diabetes e hiperlipidemia.\n",
    "\n",
    "A maioria das doenças cardiovasculares pode ser prevenida por meio da abordagem de fatores comportamentais de risco – como o uso de tabaco, dietas não saudáveis e obesidade, falta de atividade física e uso nocivo do álcool –, utilizando estratégias para a população em geral.\n",
    "\n",
    "==================================================================================================================\n",
    "\n",
    "### Quais são os fatores de risco para doenças cardiovasculares?\n",
    "\n",
    "Os mais importantes fatores de risco comportamentais, tanto para doenças cardíacas quanto para AVCs, são dietas inadequadas, sedentarismo, uso de tabaco e uso nocivo do álcool. Os efeitos dos fatores comportamentais de risco podem se manifestar em indivíduos por meio de pressão arterial elevada, glicemia alta, hiperlipidemia, sobrepeso e obesidade. Esses “fatores de risco intermediários” podem ser mensurados em unidades básicas de saúde e indicam um maior risco de desenvolvimento de ataques cardíacos, acidentes vasculares cerebrais, insuficiência cardíaca e outras complicações.\n",
    "\n",
    "A cessação do tabagismo, redução do sal na dieta, consumo de frutas e vegetais, atividades físicas regulares e evitar o uso nocivo do álcool têm se mostrado eficazes para reduzir o risco de doenças cardiovasculares. Além disso, o tratamento medicamentoso da diabetes, hipertensão e hiperlipidemia pode ser necessário para reduzir os riscos cardiovasculares e prevenir ataques cardíacos e AVCs. Políticas de saúde que criam ambientes propícios para escolhas saudáveis acessíveis são essenciais para motivar as pessoas a adotarem e manterem comportamentos saudáveis.\n",
    "\n",
    "Há também um número de determinantes subjacentes das doenças cardiovasculares. Elas são um reflexo das principais forças que regem mudanças sociais, econômicas e culturais – globalização, urbanização e envelhecimento da população. Outras determinantes dessas enfermidades incluem pobreza, estresse e fatores hereditários.\n",
    "\n",
    "\n",
    "Referência: https://www.paho.org/pt/topicos/doencas-cardiovasculares\n",
    "\n",
    "\n",
    "\n",
    "==================================================================================================================\n",
    "\n",
    "### Dados:\n",
    "\n",
    "Data description\n",
    "There are 3 types of input features:\n",
    "\n",
    "Objective: factual information;\n",
    "Examination: results of medical examination;\n",
    "Subjective: information given by the patient.\n",
    "\n",
    "### Atributos (Features) :\n",
    "\n",
    "Age | Objective Feature | age | int (days)\n",
    "\n",
    "Height | Objective Feature | height | int (cm) |\n",
    "\n",
    "Weight | Objective Feature | weight | float (kg) |\n",
    "\n",
    "Gender | Objective Feature | gender | categorical code |\n",
    "\n",
    "Systolic blood pressure | Examination Feature | ap_hi | int |\n",
    "\n",
    "Diastolic blood pressure | Examination Feature | ap_lo | int |\n",
    "\n",
    "Cholesterol | Examination Feature | cholesterol | 1: normal, 2: above normal, 3: well above normal |\n",
    "\n",
    "Glucose | Examination Feature | gluc | 1: normal, 2: above normal, 3: well above normal |\n",
    "\n",
    "Smoking | Subjective Feature | smoke | binary |\n",
    "\n",
    "Alcohol intake | Subjective Feature | alco | binary |\n",
    "\n",
    "Physical activity | Subjective Feature | active | binary |\n",
    "\n",
    "Presence or absence of cardiovascular disease | Target Variable | cardio | binary |\n",
    "\n",
    "All of the dataset values were collected at the moment of medical examination.\n",
    "==================================================================================================================\n",
    "\n",
    "### Objetivos:\n",
    "\n",
    "* Avaliação das variáveis que possuem uma maior importância na predição da doença\n",
    "* Produção de um modelo preditivo adequado e confiável.\n"
   ]
  },
  {
   "cell_type": "code",
   "execution_count": 1,
   "metadata": {},
   "outputs": [],
   "source": [
    "#Importando as bibliotecas \n",
    "import pandas as pd\n",
    "import numpy as np\n",
    "import seaborn as sns\n",
    "import matplotlib.pyplot as plt\n",
    "from sklearn.model_selection import train_test_split\n",
    "from sklearn.preprocessing import StandardScaler\n",
    "from sklearn.feature_selection import RFECV\n",
    "from sklearn.ensemble import RandomForestClassifier\n",
    "from sklearn.model_selection import cross_val_score\n",
    "from sklearn.metrics import classification_report\n",
    "from sklearn.model_selection import StratifiedKFold\n",
    "from sklearn.ensemble import ExtraTreesClassifier\n",
    "from sklearn.ensemble import AdaBoostClassifier\n",
    "from sklearn.metrics import auc\n",
    "from sklearn.metrics import plot_roc_curve\n",
    "import scikitplot as skplt\n",
    "import statsmodels.api as sm\n",
    "from sklearn.metrics import confusion_matrix\n",
    "import scipy.stats as ss\n",
    "from sklearn.model_selection import GridSearchCV\n",
    "\n",
    "import tensorflow\n",
    "import keras\n",
    "from keras.models import Sequential\n",
    "from keras.layers import Dense\n",
    "from keras.layers import Dropout\n",
    "\n",
    "\n",
    "\n",
    "\n",
    "\n",
    "import warnings\n",
    "warnings.filterwarnings(\"ignore\")"
   ]
  },
  {
   "cell_type": "code",
   "execution_count": 2,
   "metadata": {},
   "outputs": [],
   "source": [
    "#Carregando dados\n",
    "data = pd.read_csv('cardio_train.csv', sep=\";\")"
   ]
  },
  {
   "cell_type": "code",
   "execution_count": 3,
   "metadata": {},
   "outputs": [
    {
     "data": {
      "text/html": [
       "<div>\n",
       "<style scoped>\n",
       "    .dataframe tbody tr th:only-of-type {\n",
       "        vertical-align: middle;\n",
       "    }\n",
       "\n",
       "    .dataframe tbody tr th {\n",
       "        vertical-align: top;\n",
       "    }\n",
       "\n",
       "    .dataframe thead th {\n",
       "        text-align: right;\n",
       "    }\n",
       "</style>\n",
       "<table border=\"1\" class=\"dataframe\">\n",
       "  <thead>\n",
       "    <tr style=\"text-align: right;\">\n",
       "      <th></th>\n",
       "      <th>id</th>\n",
       "      <th>age</th>\n",
       "      <th>gender</th>\n",
       "      <th>height</th>\n",
       "      <th>weight</th>\n",
       "      <th>ap_hi</th>\n",
       "      <th>ap_lo</th>\n",
       "      <th>cholesterol</th>\n",
       "      <th>gluc</th>\n",
       "      <th>smoke</th>\n",
       "      <th>alco</th>\n",
       "      <th>active</th>\n",
       "      <th>cardio</th>\n",
       "    </tr>\n",
       "  </thead>\n",
       "  <tbody>\n",
       "    <tr>\n",
       "      <th>0</th>\n",
       "      <td>0</td>\n",
       "      <td>18393</td>\n",
       "      <td>2</td>\n",
       "      <td>168</td>\n",
       "      <td>62.0</td>\n",
       "      <td>110</td>\n",
       "      <td>80</td>\n",
       "      <td>1</td>\n",
       "      <td>1</td>\n",
       "      <td>0</td>\n",
       "      <td>0</td>\n",
       "      <td>1</td>\n",
       "      <td>0</td>\n",
       "    </tr>\n",
       "    <tr>\n",
       "      <th>1</th>\n",
       "      <td>1</td>\n",
       "      <td>20228</td>\n",
       "      <td>1</td>\n",
       "      <td>156</td>\n",
       "      <td>85.0</td>\n",
       "      <td>140</td>\n",
       "      <td>90</td>\n",
       "      <td>3</td>\n",
       "      <td>1</td>\n",
       "      <td>0</td>\n",
       "      <td>0</td>\n",
       "      <td>1</td>\n",
       "      <td>1</td>\n",
       "    </tr>\n",
       "    <tr>\n",
       "      <th>2</th>\n",
       "      <td>2</td>\n",
       "      <td>18857</td>\n",
       "      <td>1</td>\n",
       "      <td>165</td>\n",
       "      <td>64.0</td>\n",
       "      <td>130</td>\n",
       "      <td>70</td>\n",
       "      <td>3</td>\n",
       "      <td>1</td>\n",
       "      <td>0</td>\n",
       "      <td>0</td>\n",
       "      <td>0</td>\n",
       "      <td>1</td>\n",
       "    </tr>\n",
       "    <tr>\n",
       "      <th>3</th>\n",
       "      <td>3</td>\n",
       "      <td>17623</td>\n",
       "      <td>2</td>\n",
       "      <td>169</td>\n",
       "      <td>82.0</td>\n",
       "      <td>150</td>\n",
       "      <td>100</td>\n",
       "      <td>1</td>\n",
       "      <td>1</td>\n",
       "      <td>0</td>\n",
       "      <td>0</td>\n",
       "      <td>1</td>\n",
       "      <td>1</td>\n",
       "    </tr>\n",
       "    <tr>\n",
       "      <th>4</th>\n",
       "      <td>4</td>\n",
       "      <td>17474</td>\n",
       "      <td>1</td>\n",
       "      <td>156</td>\n",
       "      <td>56.0</td>\n",
       "      <td>100</td>\n",
       "      <td>60</td>\n",
       "      <td>1</td>\n",
       "      <td>1</td>\n",
       "      <td>0</td>\n",
       "      <td>0</td>\n",
       "      <td>0</td>\n",
       "      <td>0</td>\n",
       "    </tr>\n",
       "  </tbody>\n",
       "</table>\n",
       "</div>"
      ],
      "text/plain": [
       "   id    age  gender  height  weight  ap_hi  ap_lo  cholesterol  gluc  smoke  \\\n",
       "0   0  18393       2     168    62.0    110     80            1     1      0   \n",
       "1   1  20228       1     156    85.0    140     90            3     1      0   \n",
       "2   2  18857       1     165    64.0    130     70            3     1      0   \n",
       "3   3  17623       2     169    82.0    150    100            1     1      0   \n",
       "4   4  17474       1     156    56.0    100     60            1     1      0   \n",
       "\n",
       "   alco  active  cardio  \n",
       "0     0       1       0  \n",
       "1     0       1       1  \n",
       "2     0       0       1  \n",
       "3     0       1       1  \n",
       "4     0       0       0  "
      ]
     },
     "execution_count": 3,
     "metadata": {},
     "output_type": "execute_result"
    }
   ],
   "source": [
    "#Verificando as primeiras linhas\n",
    "data.head()"
   ]
  },
  {
   "cell_type": "code",
   "execution_count": 4,
   "metadata": {},
   "outputs": [
    {
     "data": {
      "text/plain": [
       "(70000, 13)"
      ]
     },
     "execution_count": 4,
     "metadata": {},
     "output_type": "execute_result"
    }
   ],
   "source": [
    "#Verificando o formato\n",
    "data.shape"
   ]
  },
  {
   "cell_type": "code",
   "execution_count": 5,
   "metadata": {},
   "outputs": [
    {
     "data": {
      "text/plain": [
       "id             0\n",
       "age            0\n",
       "gender         0\n",
       "height         0\n",
       "weight         0\n",
       "ap_hi          0\n",
       "ap_lo          0\n",
       "cholesterol    0\n",
       "gluc           0\n",
       "smoke          0\n",
       "alco           0\n",
       "active         0\n",
       "cardio         0\n",
       "dtype: int64"
      ]
     },
     "execution_count": 5,
     "metadata": {},
     "output_type": "execute_result"
    }
   ],
   "source": [
    "#Verificando a quantidade de valores NAn\n",
    "data.isnull().sum()"
   ]
  },
  {
   "cell_type": "code",
   "execution_count": 6,
   "metadata": {},
   "outputs": [
    {
     "data": {
      "text/plain": [
       "0    35021\n",
       "1    34979\n",
       "Name: cardio, dtype: int64"
      ]
     },
     "execution_count": 6,
     "metadata": {},
     "output_type": "execute_result"
    }
   ],
   "source": [
    "#verificando a variável target\n",
    "data['cardio'].value_counts()"
   ]
  },
  {
   "cell_type": "code",
   "execution_count": 7,
   "metadata": {},
   "outputs": [
    {
     "data": {
      "text/plain": [
       "id               int64\n",
       "age              int64\n",
       "gender           int64\n",
       "height           int64\n",
       "weight         float64\n",
       "ap_hi            int64\n",
       "ap_lo            int64\n",
       "cholesterol      int64\n",
       "gluc             int64\n",
       "smoke            int64\n",
       "alco             int64\n",
       "active           int64\n",
       "cardio           int64\n",
       "dtype: object"
      ]
     },
     "execution_count": 7,
     "metadata": {},
     "output_type": "execute_result"
    }
   ],
   "source": [
    "#Verificando os tipos das variáveis\n",
    "data.dtypes"
   ]
  },
  {
   "cell_type": "code",
   "execution_count": 8,
   "metadata": {},
   "outputs": [],
   "source": [
    "#Retirando a coluna id\n",
    "data.drop('id', axis=1, inplace=True)"
   ]
  },
  {
   "cell_type": "markdown",
   "metadata": {},
   "source": [
    "#### Agora as variáveis quantitativas e qualitativas serão divididas para que sejam realizados análises específicas de ambas."
   ]
  },
  {
   "cell_type": "markdown",
   "metadata": {},
   "source": [
    "## Estudo de variáveis qualitativas"
   ]
  },
  {
   "cell_type": "code",
   "execution_count": 9,
   "metadata": {},
   "outputs": [],
   "source": [
    "#Variáveis qualitativas\n",
    "quali = ['gender', 'cholesterol','gluc','smoke','alco','active','cardio']"
   ]
  },
  {
   "cell_type": "code",
   "execution_count": 10,
   "metadata": {},
   "outputs": [],
   "source": [
    "data_quali = data[quali]"
   ]
  },
  {
   "cell_type": "code",
   "execution_count": 11,
   "metadata": {},
   "outputs": [
    {
     "data": {
      "text/html": [
       "<div>\n",
       "<style scoped>\n",
       "    .dataframe tbody tr th:only-of-type {\n",
       "        vertical-align: middle;\n",
       "    }\n",
       "\n",
       "    .dataframe tbody tr th {\n",
       "        vertical-align: top;\n",
       "    }\n",
       "\n",
       "    .dataframe thead th {\n",
       "        text-align: right;\n",
       "    }\n",
       "</style>\n",
       "<table border=\"1\" class=\"dataframe\">\n",
       "  <thead>\n",
       "    <tr style=\"text-align: right;\">\n",
       "      <th></th>\n",
       "      <th>gender</th>\n",
       "      <th>cholesterol</th>\n",
       "      <th>gluc</th>\n",
       "      <th>smoke</th>\n",
       "      <th>alco</th>\n",
       "      <th>active</th>\n",
       "      <th>cardio</th>\n",
       "    </tr>\n",
       "  </thead>\n",
       "  <tbody>\n",
       "    <tr>\n",
       "      <th>0</th>\n",
       "      <td>2</td>\n",
       "      <td>1</td>\n",
       "      <td>1</td>\n",
       "      <td>0</td>\n",
       "      <td>0</td>\n",
       "      <td>1</td>\n",
       "      <td>0</td>\n",
       "    </tr>\n",
       "    <tr>\n",
       "      <th>1</th>\n",
       "      <td>1</td>\n",
       "      <td>3</td>\n",
       "      <td>1</td>\n",
       "      <td>0</td>\n",
       "      <td>0</td>\n",
       "      <td>1</td>\n",
       "      <td>1</td>\n",
       "    </tr>\n",
       "    <tr>\n",
       "      <th>2</th>\n",
       "      <td>1</td>\n",
       "      <td>3</td>\n",
       "      <td>1</td>\n",
       "      <td>0</td>\n",
       "      <td>0</td>\n",
       "      <td>0</td>\n",
       "      <td>1</td>\n",
       "    </tr>\n",
       "    <tr>\n",
       "      <th>3</th>\n",
       "      <td>2</td>\n",
       "      <td>1</td>\n",
       "      <td>1</td>\n",
       "      <td>0</td>\n",
       "      <td>0</td>\n",
       "      <td>1</td>\n",
       "      <td>1</td>\n",
       "    </tr>\n",
       "    <tr>\n",
       "      <th>4</th>\n",
       "      <td>1</td>\n",
       "      <td>1</td>\n",
       "      <td>1</td>\n",
       "      <td>0</td>\n",
       "      <td>0</td>\n",
       "      <td>0</td>\n",
       "      <td>0</td>\n",
       "    </tr>\n",
       "  </tbody>\n",
       "</table>\n",
       "</div>"
      ],
      "text/plain": [
       "   gender  cholesterol  gluc  smoke  alco  active  cardio\n",
       "0       2            1     1      0     0       1       0\n",
       "1       1            3     1      0     0       1       1\n",
       "2       1            3     1      0     0       0       1\n",
       "3       2            1     1      0     0       1       1\n",
       "4       1            1     1      0     0       0       0"
      ]
     },
     "execution_count": 11,
     "metadata": {},
     "output_type": "execute_result"
    }
   ],
   "source": [
    "data_quali.head()"
   ]
  },
  {
   "cell_type": "code",
   "execution_count": 12,
   "metadata": {},
   "outputs": [
    {
     "data": {
      "text/plain": [
       "0    63831\n",
       "1     6169\n",
       "Name: smoke, dtype: int64"
      ]
     },
     "execution_count": 12,
     "metadata": {},
     "output_type": "execute_result"
    }
   ],
   "source": [
    "data['smoke'].value_counts()"
   ]
  },
  {
   "cell_type": "code",
   "execution_count": 13,
   "metadata": {},
   "outputs": [
    {
     "data": {
      "text/plain": [
       "0    66236\n",
       "1     3764\n",
       "Name: alco, dtype: int64"
      ]
     },
     "execution_count": 13,
     "metadata": {},
     "output_type": "execute_result"
    }
   ],
   "source": [
    "data['alco'].value_counts()"
   ]
  },
  {
   "cell_type": "code",
   "execution_count": 14,
   "metadata": {},
   "outputs": [],
   "source": [
    "#### Agora calculamos a associação entre as variáveis categóricas, utilizando a medida Cramér - V. Ela é baseada na\n",
    "#### estatística do qui-quadrado (chi2) de Pearson"
   ]
  },
  {
   "cell_type": "code",
   "execution_count": 15,
   "metadata": {},
   "outputs": [],
   "source": [
    "# A Associação é um resultado no intervalo de [0,1], em que 0 significa nenhuma associação e 1 é associação completa.\n",
    "\n",
    "# Função\n",
    "def cramers_v(x, y):\n",
    "    confusion_matrix = pd.crosstab(x, y)\n",
    "    \n",
    "    # Teste qui-quadrado de independência de variáveis em uma tabela de contingência.\n",
    "    chi2 = ss.chi2_contingency(confusion_matrix)[0]\n",
    "    n = confusion_matrix.sum().sum()\n",
    "    phi2 = chi2/n\n",
    "    r,k = confusion_matrix.shape\n",
    "    phi2corr = max(0, phi2-((k-1)*(r-1))/(n-1))\n",
    "    rcorr = r-((r-1)**2)/(n-1)\n",
    "    kcorr = k-((k-1)**2)/(n-1)\n",
    "    return np.sqrt(phi2corr/min((kcorr-1),(rcorr-1)))"
   ]
  },
  {
   "cell_type": "code",
   "execution_count": 16,
   "metadata": {},
   "outputs": [],
   "source": [
    "# Coleta o nome das colunas do dataset\n",
    "\n",
    "# Lista\n",
    "categorical_vars = []\n",
    "\n",
    "# Loop\n",
    "for column in data_quali:\n",
    "    categorical_vars.append(column)"
   ]
  },
  {
   "cell_type": "code",
   "execution_count": 17,
   "metadata": {},
   "outputs": [
    {
     "data": {
      "text/plain": [
       "['gender', 'cholesterol', 'gluc', 'smoke', 'alco', 'active', 'cardio']"
      ]
     },
     "execution_count": 17,
     "metadata": {},
     "output_type": "execute_result"
    }
   ],
   "source": [
    "# Visualiza\n",
    "categorical_vars"
   ]
  },
  {
   "cell_type": "code",
   "execution_count": 18,
   "metadata": {},
   "outputs": [
    {
     "name": "stdout",
     "output_type": "stream",
     "text": [
      "\n",
      "A Associação é um resultado no intervalo de [0,1], em que 0 significa nenhuma associação e 1 é associação completa.\n",
      "\n",
      "\n",
      "Associação da Variável gender com a variável resposta: 0.007140984138192398\n",
      "Associação da Variável cholesterol com a variável resposta: 0.22108459105726172\n",
      "Associação da Variável gluc com a variável resposta: 0.09141116970410079\n",
      "Associação da Variável smoke com a variável resposta: 0.014965735354595095\n",
      "Associação da Variável alco com a variável resposta: 0.006206645866171115\n",
      "Associação da Variável active com a variável resposta: 0.03541641750397704\n",
      "Associação da Variável cardio com a variável resposta: 0.9999714281529619\n"
     ]
    }
   ],
   "source": [
    "# Variável alvo\n",
    "y = 'cardio'\n",
    "\n",
    "# Print\n",
    "print('\\nA Associação é um resultado no intervalo de [0,1], em que 0 significa nenhuma associação e 1 é associação completa.')\n",
    "print('\\n')\n",
    "\n",
    "# Loop\n",
    "for var in categorical_vars:\n",
    "    print('Associação da Variável ' + var + ' com a variável resposta:', \n",
    "          cramers_v(data_quali[var], data_quali[y]))"
   ]
  },
  {
   "cell_type": "markdown",
   "metadata": {},
   "source": [
    "Podemos perceber que as variáveis active alco e gender possuem uma associação bastante baixa. Devemos observar  o comportamento de ambas no decorrer do projeto. Já a variável colesterol possuiu a associação mais signficativa. \n"
   ]
  },
  {
   "cell_type": "markdown",
   "metadata": {},
   "source": [
    "## Estudo das variáveis quantitativas"
   ]
  },
  {
   "cell_type": "code",
   "execution_count": 19,
   "metadata": {},
   "outputs": [],
   "source": [
    "#Variáveis qualitativas\n",
    "quali2 = ['gender', 'cholesterol','gluc','smoke','alco','active']"
   ]
  },
  {
   "cell_type": "code",
   "execution_count": 20,
   "metadata": {},
   "outputs": [],
   "source": [
    "data_int = data.drop(columns = quali2, axis = 1)\n"
   ]
  },
  {
   "cell_type": "code",
   "execution_count": 21,
   "metadata": {},
   "outputs": [
    {
     "data": {
      "text/html": [
       "<div>\n",
       "<style scoped>\n",
       "    .dataframe tbody tr th:only-of-type {\n",
       "        vertical-align: middle;\n",
       "    }\n",
       "\n",
       "    .dataframe tbody tr th {\n",
       "        vertical-align: top;\n",
       "    }\n",
       "\n",
       "    .dataframe thead th {\n",
       "        text-align: right;\n",
       "    }\n",
       "</style>\n",
       "<table border=\"1\" class=\"dataframe\">\n",
       "  <thead>\n",
       "    <tr style=\"text-align: right;\">\n",
       "      <th></th>\n",
       "      <th>age</th>\n",
       "      <th>height</th>\n",
       "      <th>weight</th>\n",
       "      <th>ap_hi</th>\n",
       "      <th>ap_lo</th>\n",
       "      <th>cardio</th>\n",
       "    </tr>\n",
       "  </thead>\n",
       "  <tbody>\n",
       "    <tr>\n",
       "      <th>0</th>\n",
       "      <td>18393</td>\n",
       "      <td>168</td>\n",
       "      <td>62.0</td>\n",
       "      <td>110</td>\n",
       "      <td>80</td>\n",
       "      <td>0</td>\n",
       "    </tr>\n",
       "    <tr>\n",
       "      <th>1</th>\n",
       "      <td>20228</td>\n",
       "      <td>156</td>\n",
       "      <td>85.0</td>\n",
       "      <td>140</td>\n",
       "      <td>90</td>\n",
       "      <td>1</td>\n",
       "    </tr>\n",
       "    <tr>\n",
       "      <th>2</th>\n",
       "      <td>18857</td>\n",
       "      <td>165</td>\n",
       "      <td>64.0</td>\n",
       "      <td>130</td>\n",
       "      <td>70</td>\n",
       "      <td>1</td>\n",
       "    </tr>\n",
       "    <tr>\n",
       "      <th>3</th>\n",
       "      <td>17623</td>\n",
       "      <td>169</td>\n",
       "      <td>82.0</td>\n",
       "      <td>150</td>\n",
       "      <td>100</td>\n",
       "      <td>1</td>\n",
       "    </tr>\n",
       "    <tr>\n",
       "      <th>4</th>\n",
       "      <td>17474</td>\n",
       "      <td>156</td>\n",
       "      <td>56.0</td>\n",
       "      <td>100</td>\n",
       "      <td>60</td>\n",
       "      <td>0</td>\n",
       "    </tr>\n",
       "  </tbody>\n",
       "</table>\n",
       "</div>"
      ],
      "text/plain": [
       "     age  height  weight  ap_hi  ap_lo  cardio\n",
       "0  18393     168    62.0    110     80       0\n",
       "1  20228     156    85.0    140     90       1\n",
       "2  18857     165    64.0    130     70       1\n",
       "3  17623     169    82.0    150    100       1\n",
       "4  17474     156    56.0    100     60       0"
      ]
     },
     "execution_count": 21,
     "metadata": {},
     "output_type": "execute_result"
    }
   ],
   "source": [
    "data_int.head()"
   ]
  },
  {
   "cell_type": "code",
   "execution_count": 22,
   "metadata": {},
   "outputs": [
    {
     "data": {
      "image/png": "[encoded data removed]",
      "text/plain": [
       "<Figure size 936x504 with 2 Axes>"
      ]
     },
     "metadata": {
      "needs_background": "light"
     },
     "output_type": "display_data"
    }
   ],
   "source": [
    "corr = data_int.corr()\n",
    "f, ax = plt.subplots(figsize = (13, 7))\n",
    "sns.heatmap(corr, annot= True, cmap=\"YlGnBu\")\n",
    "plt.show()"
   ]
  },
  {
   "cell_type": "markdown",
   "metadata": {},
   "source": [
    "Na correlação (variáveis quantitativas) observamos uma relação mais forte entre peso e altura. Uma ideia para\n",
    "lidar com essa situação é retirar uma das variáveis. |No nosso caso, transformamos ambas em IMC. Uma variável\n",
    "bastante conhecida (embora controversa) no meio médico."
   ]
  },
  {
   "cell_type": "code",
   "execution_count": 23,
   "metadata": {},
   "outputs": [
    {
     "data": {
      "image/png": "[encoded data removed]",
      "text/plain": [
       "<Figure size 1296x576 with 1 Axes>"
      ]
     },
     "metadata": {
      "needs_background": "light"
     },
     "output_type": "display_data"
    }
   ],
   "source": [
    "#  boxplots para todas as variáveis quantitativas\n",
    "\n",
    "# Tamanho da figura\n",
    "f, ax = plt.subplots(figsize = (18, 8))\n",
    "\n",
    "# Variáveis quantitativas\n",
    "df = data_int\n",
    "\n",
    "# Cria o boxplot\n",
    "ax = sns.boxplot(x = \"variable\", y = \"value\", data = pd.melt(df))\n",
    "\n",
    "# Faz a rotação do label\n",
    "ax.set_xticklabels(ax.get_xticklabels(), rotation = 30)\n",
    "\n",
    "# Show\n",
    "plt.show()"
   ]
  },
  {
   "cell_type": "markdown",
   "metadata": {},
   "source": [
    "Os outliers não serão retirados em um primeiro momento, por tratar-se de dados médicos. Os outliers não retirados\n",
    "são possíveis e possuem importância no diagnóstico e previsão."
   ]
  },
  {
   "cell_type": "code",
   "execution_count": 24,
   "metadata": {},
   "outputs": [
    {
     "data": {
      "text/html": [
       "<div>\n",
       "<style scoped>\n",
       "    .dataframe tbody tr th:only-of-type {\n",
       "        vertical-align: middle;\n",
       "    }\n",
       "\n",
       "    .dataframe tbody tr th {\n",
       "        vertical-align: top;\n",
       "    }\n",
       "\n",
       "    .dataframe thead th {\n",
       "        text-align: right;\n",
       "    }\n",
       "</style>\n",
       "<table border=\"1\" class=\"dataframe\">\n",
       "  <thead>\n",
       "    <tr style=\"text-align: right;\">\n",
       "      <th></th>\n",
       "      <th>age</th>\n",
       "      <th>height</th>\n",
       "      <th>weight</th>\n",
       "      <th>ap_hi</th>\n",
       "      <th>ap_lo</th>\n",
       "      <th>cardio</th>\n",
       "    </tr>\n",
       "  </thead>\n",
       "  <tbody>\n",
       "    <tr>\n",
       "      <th>count</th>\n",
       "      <td>70000.000000</td>\n",
       "      <td>70000.000000</td>\n",
       "      <td>70000.000000</td>\n",
       "      <td>70000.000000</td>\n",
       "      <td>70000.000000</td>\n",
       "      <td>70000.000000</td>\n",
       "    </tr>\n",
       "    <tr>\n",
       "      <th>mean</th>\n",
       "      <td>19468.865814</td>\n",
       "      <td>164.359229</td>\n",
       "      <td>74.205690</td>\n",
       "      <td>128.817286</td>\n",
       "      <td>96.630414</td>\n",
       "      <td>0.499700</td>\n",
       "    </tr>\n",
       "    <tr>\n",
       "      <th>std</th>\n",
       "      <td>2467.251667</td>\n",
       "      <td>8.210126</td>\n",
       "      <td>14.395757</td>\n",
       "      <td>154.011419</td>\n",
       "      <td>188.472530</td>\n",
       "      <td>0.500003</td>\n",
       "    </tr>\n",
       "    <tr>\n",
       "      <th>min</th>\n",
       "      <td>10798.000000</td>\n",
       "      <td>55.000000</td>\n",
       "      <td>10.000000</td>\n",
       "      <td>-150.000000</td>\n",
       "      <td>-70.000000</td>\n",
       "      <td>0.000000</td>\n",
       "    </tr>\n",
       "    <tr>\n",
       "      <th>25%</th>\n",
       "      <td>17664.000000</td>\n",
       "      <td>159.000000</td>\n",
       "      <td>65.000000</td>\n",
       "      <td>120.000000</td>\n",
       "      <td>80.000000</td>\n",
       "      <td>0.000000</td>\n",
       "    </tr>\n",
       "    <tr>\n",
       "      <th>50%</th>\n",
       "      <td>19703.000000</td>\n",
       "      <td>165.000000</td>\n",
       "      <td>72.000000</td>\n",
       "      <td>120.000000</td>\n",
       "      <td>80.000000</td>\n",
       "      <td>0.000000</td>\n",
       "    </tr>\n",
       "    <tr>\n",
       "      <th>75%</th>\n",
       "      <td>21327.000000</td>\n",
       "      <td>170.000000</td>\n",
       "      <td>82.000000</td>\n",
       "      <td>140.000000</td>\n",
       "      <td>90.000000</td>\n",
       "      <td>1.000000</td>\n",
       "    </tr>\n",
       "    <tr>\n",
       "      <th>max</th>\n",
       "      <td>23713.000000</td>\n",
       "      <td>250.000000</td>\n",
       "      <td>200.000000</td>\n",
       "      <td>16020.000000</td>\n",
       "      <td>11000.000000</td>\n",
       "      <td>1.000000</td>\n",
       "    </tr>\n",
       "  </tbody>\n",
       "</table>\n",
       "</div>"
      ],
      "text/plain": [
       "                age        height        weight         ap_hi         ap_lo  \\\n",
       "count  70000.000000  70000.000000  70000.000000  70000.000000  70000.000000   \n",
       "mean   19468.865814    164.359229     74.205690    128.817286     96.630414   \n",
       "std     2467.251667      8.210126     14.395757    154.011419    188.472530   \n",
       "min    10798.000000     55.000000     10.000000   -150.000000    -70.000000   \n",
       "25%    17664.000000    159.000000     65.000000    120.000000     80.000000   \n",
       "50%    19703.000000    165.000000     72.000000    120.000000     80.000000   \n",
       "75%    21327.000000    170.000000     82.000000    140.000000     90.000000   \n",
       "max    23713.000000    250.000000    200.000000  16020.000000  11000.000000   \n",
       "\n",
       "             cardio  \n",
       "count  70000.000000  \n",
       "mean       0.499700  \n",
       "std        0.500003  \n",
       "min        0.000000  \n",
       "25%        0.000000  \n",
       "50%        0.000000  \n",
       "75%        1.000000  \n",
       "max        1.000000  "
      ]
     },
     "execution_count": 24,
     "metadata": {},
     "output_type": "execute_result"
    }
   ],
   "source": [
    "data_int.describe()"
   ]
  },
  {
   "cell_type": "code",
   "execution_count": 25,
   "metadata": {},
   "outputs": [
    {
     "data": {
      "text/plain": [
       "<matplotlib.axes._subplots.AxesSubplot at 0x7f189042b1d0>"
      ]
     },
     "execution_count": 25,
     "metadata": {},
     "output_type": "execute_result"
    },
    {
     "data": {
      "image/png": "[encoded data removed]",
      "text/plain": [
       "<Figure size 432x288 with 1 Axes>"
      ]
     },
     "metadata": {
      "needs_background": "light"
     },
     "output_type": "display_data"
    }
   ],
   "source": [
    "# Boxplot de uma variável para cada classe da variável target\n",
    "\n",
    "sns.boxplot(x = 'cardio', y = 'age', data = data_int)"
   ]
  },
  {
   "cell_type": "markdown",
   "metadata": {},
   "source": [
    "Podemos verificar que o gênero 1 possui uma média e uma mediana superiores aos do gênero 0. Essa pode ser uma\n",
    "informação muito útil para análises e predições."
   ]
  },
  {
   "cell_type": "code",
   "execution_count": 26,
   "metadata": {},
   "outputs": [
    {
     "data": {
      "text/plain": [
       "<matplotlib.axes._subplots.AxesSubplot at 0x7f1890372050>"
      ]
     },
     "execution_count": 26,
     "metadata": {},
     "output_type": "execute_result"
    },
    {
     "data": {
      "image/png": "[encoded data removed]",
      "text/plain": [
       "<Figure size 432x288 with 1 Axes>"
      ]
     },
     "metadata": {
      "needs_background": "light"
     },
     "output_type": "display_data"
    }
   ],
   "source": [
    "# Boxplot de uma variável\n",
    "sns.boxplot(x = 'ap_hi', data = data_int)"
   ]
  },
  {
   "cell_type": "code",
   "execution_count": 27,
   "metadata": {},
   "outputs": [
    {
     "data": {
      "text/plain": [
       "16020"
      ]
     },
     "execution_count": 27,
     "metadata": {},
     "output_type": "execute_result"
    }
   ],
   "source": [
    "data['ap_hi'].max()"
   ]
  },
  {
   "cell_type": "code",
   "execution_count": 28,
   "metadata": {},
   "outputs": [
    {
     "data": {
      "text/plain": [
       "128.8172857142857"
      ]
     },
     "execution_count": 28,
     "metadata": {},
     "output_type": "execute_result"
    }
   ],
   "source": [
    "data['ap_hi'].mean()\n",
    "\n"
   ]
  },
  {
   "cell_type": "code",
   "execution_count": 29,
   "metadata": {},
   "outputs": [],
   "source": [
    "df_remove = data.loc[(data['ap_hi'] <= 0) \n",
    "                         | (data['ap_hi'] >= 250)]\n"
   ]
  },
  {
   "cell_type": "code",
   "execution_count": 30,
   "metadata": {},
   "outputs": [],
   "source": [
    "data = data.drop(df_remove.index)"
   ]
  },
  {
   "cell_type": "code",
   "execution_count": 31,
   "metadata": {},
   "outputs": [
    {
     "data": {
      "text/plain": [
       "<matplotlib.axes._subplots.AxesSubplot at 0x7f18902e02d0>"
      ]
     },
     "execution_count": 31,
     "metadata": {},
     "output_type": "execute_result"
    },
    {
     "data": {
      "image/png": "[encoded data removed]",
      "text/plain": [
       "<Figure size 432x288 with 1 Axes>"
      ]
     },
     "metadata": {
      "needs_background": "light"
     },
     "output_type": "display_data"
    }
   ],
   "source": [
    "sns.boxplot(x = 'ap_hi', data = data_int)"
   ]
  },
  {
   "cell_type": "code",
   "execution_count": 32,
   "metadata": {},
   "outputs": [],
   "source": [
    "df_remove2 = data.loc[(data['ap_lo'] <= 0) \n",
    "                         | (data['ap_lo'] >= 250)]"
   ]
  },
  {
   "cell_type": "code",
   "execution_count": 33,
   "metadata": {},
   "outputs": [],
   "source": [
    "data = data.drop(df_remove2.index)"
   ]
  },
  {
   "cell_type": "code",
   "execution_count": 34,
   "metadata": {},
   "outputs": [
    {
     "data": {
      "text/plain": [
       "<matplotlib.axes._subplots.AxesSubplot at 0x7f189ead6ed0>"
      ]
     },
     "execution_count": 34,
     "metadata": {},
     "output_type": "execute_result"
    },
    {
     "data": {
      "image/png": "[encoded data removed]",
      "text/plain": [
       "<Figure size 432x288 with 1 Axes>"
      ]
     },
     "metadata": {
      "needs_background": "light"
     },
     "output_type": "display_data"
    }
   ],
   "source": [
    "sns.boxplot(x = 'ap_hi', data = data_int)"
   ]
  },
  {
   "cell_type": "code",
   "execution_count": 35,
   "metadata": {},
   "outputs": [
    {
     "data": {
      "text/plain": [
       "<matplotlib.axes._subplots.AxesSubplot at 0x7f189ea47bd0>"
      ]
     },
     "execution_count": 35,
     "metadata": {},
     "output_type": "execute_result"
    },
    {
     "data": {
      "image/png": "[encoded data removed]",
      "text/plain": [
       "<Figure size 432x288 with 1 Axes>"
      ]
     },
     "metadata": {
      "needs_background": "light"
     },
     "output_type": "display_data"
    }
   ],
   "source": [
    "# Boxplot de uma variável\n",
    "sns.boxplot(x = 'ap_lo', data = data_int)"
   ]
  },
  {
   "cell_type": "code",
   "execution_count": 36,
   "metadata": {},
   "outputs": [
    {
     "data": {
      "text/plain": [
       "<matplotlib.axes._subplots.AxesSubplot at 0x7f189e9b3dd0>"
      ]
     },
     "execution_count": 36,
     "metadata": {},
     "output_type": "execute_result"
    },
    {
     "data": {
      "image/png": "[encoded data removed]",
      "text/plain": [
       "<Figure size 432x288 with 1 Axes>"
      ]
     },
     "metadata": {
      "needs_background": "light"
     },
     "output_type": "display_data"
    }
   ],
   "source": [
    "# Boxplot de uma variável\n",
    "sns.boxplot(x = 'weight', data = data_int)"
   ]
  },
  {
   "cell_type": "code",
   "execution_count": 37,
   "metadata": {},
   "outputs": [
    {
     "data": {
      "text/plain": [
       "<matplotlib.axes._subplots.AxesSubplot at 0x7f189e9aa2d0>"
      ]
     },
     "execution_count": 37,
     "metadata": {},
     "output_type": "execute_result"
    },
    {
     "data": {
      "image/png": "[encoded data removed]",
      "text/plain": [
       "<Figure size 432x288 with 1 Axes>"
      ]
     },
     "metadata": {
      "needs_background": "light"
     },
     "output_type": "display_data"
    }
   ],
   "source": [
    "# Boxplot de uma variável\n",
    "sns.boxplot(x = 'height', data = data_int)"
   ]
  },
  {
   "cell_type": "code",
   "execution_count": 38,
   "metadata": {},
   "outputs": [],
   "source": [
    "df_remove_alt = data.loc[(data['height'] <= 0) \n",
    "                         | (data['height'] >= 200)]"
   ]
  },
  {
   "cell_type": "code",
   "execution_count": 39,
   "metadata": {},
   "outputs": [],
   "source": [
    "data = data.drop(df_remove_alt.index)"
   ]
  },
  {
   "cell_type": "code",
   "execution_count": 40,
   "metadata": {},
   "outputs": [
    {
     "data": {
      "text/plain": [
       "<matplotlib.axes._subplots.AxesSubplot at 0x7f189fd40450>"
      ]
     },
     "execution_count": 40,
     "metadata": {},
     "output_type": "execute_result"
    },
    {
     "data": {
      "image/png": "[encoded data removed]",
      "text/plain": [
       "<Figure size 432x288 with 1 Axes>"
      ]
     },
     "metadata": {
      "needs_background": "light"
     },
     "output_type": "display_data"
    }
   ],
   "source": [
    "# Boxplot de uma variável\n",
    "sns.boxplot(x = 'height', data = data)"
   ]
  },
  {
   "cell_type": "code",
   "execution_count": 41,
   "metadata": {},
   "outputs": [],
   "source": [
    "data.drop('gender', axis=1, inplace=True)"
   ]
  },
  {
   "cell_type": "markdown",
   "metadata": {},
   "source": [
    "#### Transformando peso e altura em imc"
   ]
  },
  {
   "cell_type": "code",
   "execution_count": 42,
   "metadata": {},
   "outputs": [],
   "source": [
    "#Transformar altura e largura em imc\n",
    "data[\"imc\"] = round((data[\"weight\"]/ (data[\"height\"]/100)**2),2)\n",
    "data.drop(columns=['weight','height'], axis=1, inplace=True)"
   ]
  },
  {
   "cell_type": "code",
   "execution_count": 43,
   "metadata": {},
   "outputs": [],
   "source": [
    "#Transformando a idade em anos\n",
    "data['age_anos'] = round(data['age'].div(365),2)\n",
    "data.drop('age', axis=1, inplace=True)"
   ]
  },
  {
   "cell_type": "code",
   "execution_count": 44,
   "metadata": {},
   "outputs": [],
   "source": [
    "#Separação das variáveis em treino e teste\n",
    "# Define X (variáveis explicativas) e y (variável target)\n",
    "X = data.drop('cardio', axis = 1)\n",
    "y = data['cardio']"
   ]
  },
  {
   "cell_type": "code",
   "execution_count": 45,
   "metadata": {},
   "outputs": [],
   "source": [
    "# Aplica a divisão com proporção 80/20\n",
    "X_treino, X_teste, y_treino, y_teste = train_test_split(X, y, test_size = 0.20, random_state = 121)"
   ]
  },
  {
   "cell_type": "code",
   "execution_count": 46,
   "metadata": {},
   "outputs": [],
   "source": [
    "# Padronização\n",
    "# A variável target não requer padronização\n",
    "\n",
    "# Cria o padronizador\n",
    "scaler = StandardScaler()\n",
    "\n",
    "# Treina e aplica nos dados de treino\n",
    "X_treino_scaled = scaler.fit_transform(X_treino.values)\n",
    "\n",
    "# Apenas aplica nos dados de teste\n",
    "X_teste_scaled = scaler.transform(X_teste.values)"
   ]
  },
  {
   "cell_type": "markdown",
   "metadata": {},
   "source": [
    "## Seleção de Variáveis: Recursive Feature Selection com Validação Cruzada (RFECV)"
   ]
  },
  {
   "cell_type": "code",
   "execution_count": 47,
   "metadata": {},
   "outputs": [],
   "source": [
    "# Cria o seletor de variáveis\n",
    "\n",
    "# Cria o estimador\n",
    "estimador_rfc = RandomForestClassifier(random_state = 121)\n",
    "\n",
    "# Cria o seletor\n",
    "seletor_f1 = RFECV(estimator = estimador_rfc, step = 1, cv = StratifiedKFold(10), scoring = 'f1')\n",
    "\n",
    "# Treinamos o seletor\n",
    "seletor_f1 = seletor_f1.fit(X_treino_scaled, y_treino)"
   ]
  },
  {
   "cell_type": "code",
   "execution_count": 48,
   "metadata": {},
   "outputs": [
    {
     "name": "stdout",
     "output_type": "stream",
     "text": [
      "Número Ideal de Atributos: 9\n"
     ]
    }
   ],
   "source": [
    "print('Número Ideal de Atributos: {}'.format(seletor_f1.n_features_))"
   ]
  },
  {
   "cell_type": "code",
   "execution_count": 49,
   "metadata": {},
   "outputs": [
    {
     "data": {
      "text/plain": [
       "0.6992824527071102"
      ]
     },
     "execution_count": 49,
     "metadata": {},
     "output_type": "execute_result"
    }
   ],
   "source": [
    "# Vamos avaliar a acurácia do modelo com F1 Score\n",
    "previsoes_seletor_f1 = seletor_f1.predict(X_teste_scaled)\n",
    "from sklearn.metrics import accuracy_score\n",
    "acc_seletor_f1 = accuracy_score(y_teste, previsoes_seletor_f1)\n",
    "acc_seletor_f1"
   ]
  },
  {
   "cell_type": "code",
   "execution_count": 50,
   "metadata": {},
   "outputs": [
    {
     "name": "stdout",
     "output_type": "stream",
     "text": [
      "              precision    recall  f1-score   support\n",
      "\n",
      "           0       0.70      0.71      0.71      7023\n",
      "           1       0.70      0.69      0.69      6774\n",
      "\n",
      "    accuracy                           0.70     13797\n",
      "   macro avg       0.70      0.70      0.70     13797\n",
      "weighted avg       0.70      0.70      0.70     13797\n",
      "\n"
     ]
    }
   ],
   "source": [
    "# Relatório de Classificação\n",
    "print(classification_report(y_teste, previsoes_seletor_f1))"
   ]
  },
  {
   "cell_type": "code",
   "execution_count": 51,
   "metadata": {},
   "outputs": [],
   "source": [
    "# Cria um dataframe com os resultados\n",
    "resultado_seletor_f1 = pd.DataFrame()\n",
    "resultado_seletor_f1['Atributo'] = X_treino.columns[np.where(seletor_f1.support_ == True)]\n",
    "resultado_seletor_f1['Score'] = seletor_f1.estimator_.feature_importances_\n",
    "resultado_seletor_f1.sort_values('Score', inplace = True, ascending = True)"
   ]
  },
  {
   "cell_type": "code",
   "execution_count": 52,
   "metadata": {},
   "outputs": [
    {
     "data": {
      "image/png": "[encoded data removed]",
      "text/plain": [
       "<Figure size 864x864 with 1 Axes>"
      ]
     },
     "metadata": {
      "needs_background": "light"
     },
     "output_type": "display_data"
    }
   ],
   "source": [
    "# Plot \n",
    "plt.figure(figsize = (12, 12))\n",
    "plt.barh(y = resultado_seletor_f1['Atributo'], width = resultado_seletor_f1['Score'], color = 'Magenta')\n",
    "plt.title('Importância de Variáveis - RFECV', fontsize = 18, fontweight = 'bold', pad = 10)\n",
    "plt.xlabel('Importância', fontsize = 14, labelpad = 15)\n",
    "plt.show()"
   ]
  },
  {
   "cell_type": "code",
   "execution_count": 53,
   "metadata": {},
   "outputs": [
    {
     "data": {
      "text/plain": [
       "ap_hi          True\n",
       "ap_lo          True\n",
       "cholesterol    True\n",
       "gluc           True\n",
       "smoke          True\n",
       "alco           True\n",
       "active         True\n",
       "imc            True\n",
       "age_anos       True\n",
       "dtype: bool"
      ]
     },
     "execution_count": 53,
     "metadata": {},
     "output_type": "execute_result"
    }
   ],
   "source": [
    "# Extrai as variáveis e quais são importante ou não para o modelo\n",
    "variaveis_rfecv = pd.Series(seletor_f1.support_, index = X_treino.columns)\n",
    "variaveis_rfecv"
   ]
  },
  {
   "cell_type": "markdown",
   "metadata": {
    "scrolled": true
   },
   "source": [
    "Verificamos que as variáveis idade, imc e pressão possuem um peso maior, levando em consideração o estudo com\n",
    "o REFCV. Mais tarde realizaremos outrs estudos para verificação."
   ]
  },
  {
   "cell_type": "code",
   "execution_count": null,
   "metadata": {},
   "outputs": [],
   "source": []
  },
  {
   "cell_type": "code",
   "execution_count": null,
   "metadata": {},
   "outputs": [],
   "source": []
  },
  {
   "cell_type": "code",
   "execution_count": 54,
   "metadata": {},
   "outputs": [
    {
     "data": {
      "text/html": [
       "<div>\n",
       "<style scoped>\n",
       "    .dataframe tbody tr th:only-of-type {\n",
       "        vertical-align: middle;\n",
       "    }\n",
       "\n",
       "    .dataframe tbody tr th {\n",
       "        vertical-align: top;\n",
       "    }\n",
       "\n",
       "    .dataframe thead th {\n",
       "        text-align: right;\n",
       "    }\n",
       "</style>\n",
       "<table border=\"1\" class=\"dataframe\">\n",
       "  <thead>\n",
       "    <tr style=\"text-align: right;\">\n",
       "      <th></th>\n",
       "      <th>ap_hi</th>\n",
       "      <th>ap_lo</th>\n",
       "      <th>cholesterol</th>\n",
       "      <th>gluc</th>\n",
       "      <th>smoke</th>\n",
       "      <th>alco</th>\n",
       "      <th>active</th>\n",
       "      <th>cardio</th>\n",
       "      <th>imc</th>\n",
       "      <th>age_anos</th>\n",
       "    </tr>\n",
       "  </thead>\n",
       "  <tbody>\n",
       "    <tr>\n",
       "      <th>0</th>\n",
       "      <td>110</td>\n",
       "      <td>80</td>\n",
       "      <td>1</td>\n",
       "      <td>1</td>\n",
       "      <td>0</td>\n",
       "      <td>0</td>\n",
       "      <td>1</td>\n",
       "      <td>0</td>\n",
       "      <td>21.97</td>\n",
       "      <td>50.39</td>\n",
       "    </tr>\n",
       "    <tr>\n",
       "      <th>1</th>\n",
       "      <td>140</td>\n",
       "      <td>90</td>\n",
       "      <td>3</td>\n",
       "      <td>1</td>\n",
       "      <td>0</td>\n",
       "      <td>0</td>\n",
       "      <td>1</td>\n",
       "      <td>1</td>\n",
       "      <td>34.93</td>\n",
       "      <td>55.42</td>\n",
       "    </tr>\n",
       "    <tr>\n",
       "      <th>2</th>\n",
       "      <td>130</td>\n",
       "      <td>70</td>\n",
       "      <td>3</td>\n",
       "      <td>1</td>\n",
       "      <td>0</td>\n",
       "      <td>0</td>\n",
       "      <td>0</td>\n",
       "      <td>1</td>\n",
       "      <td>23.51</td>\n",
       "      <td>51.66</td>\n",
       "    </tr>\n",
       "    <tr>\n",
       "      <th>3</th>\n",
       "      <td>150</td>\n",
       "      <td>100</td>\n",
       "      <td>1</td>\n",
       "      <td>1</td>\n",
       "      <td>0</td>\n",
       "      <td>0</td>\n",
       "      <td>1</td>\n",
       "      <td>1</td>\n",
       "      <td>28.71</td>\n",
       "      <td>48.28</td>\n",
       "    </tr>\n",
       "    <tr>\n",
       "      <th>4</th>\n",
       "      <td>100</td>\n",
       "      <td>60</td>\n",
       "      <td>1</td>\n",
       "      <td>1</td>\n",
       "      <td>0</td>\n",
       "      <td>0</td>\n",
       "      <td>0</td>\n",
       "      <td>0</td>\n",
       "      <td>23.01</td>\n",
       "      <td>47.87</td>\n",
       "    </tr>\n",
       "  </tbody>\n",
       "</table>\n",
       "</div>"
      ],
      "text/plain": [
       "   ap_hi  ap_lo  cholesterol  gluc  smoke  alco  active  cardio    imc  \\\n",
       "0    110     80            1     1      0     0       1       0  21.97   \n",
       "1    140     90            3     1      0     0       1       1  34.93   \n",
       "2    130     70            3     1      0     0       0       1  23.51   \n",
       "3    150    100            1     1      0     0       1       1  28.71   \n",
       "4    100     60            1     1      0     0       0       0  23.01   \n",
       "\n",
       "   age_anos  \n",
       "0     50.39  \n",
       "1     55.42  \n",
       "2     51.66  \n",
       "3     48.28  \n",
       "4     47.87  "
      ]
     },
     "execution_count": 54,
     "metadata": {},
     "output_type": "execute_result"
    }
   ],
   "source": [
    "data.head()"
   ]
  },
  {
   "cell_type": "markdown",
   "metadata": {},
   "source": [
    "## Modelo-Base -  Regressão Logística"
   ]
  },
  {
   "cell_type": "code",
   "execution_count": 55,
   "metadata": {},
   "outputs": [
    {
     "name": "stdout",
     "output_type": "stream",
     "text": [
      "Optimization terminated successfully.\n",
      "         Current function value: 0.565761\n",
      "         Iterations 6\n",
      "                           Logit Regression Results                           \n",
      "==============================================================================\n",
      "Dep. Variable:                 cardio   No. Observations:                55186\n",
      "Model:                          Logit   Df Residuals:                    55177\n",
      "Method:                           MLE   Df Model:                            8\n",
      "Date:                Fri, 11 Dec 2020   Pseudo R-squ.:                  0.1837\n",
      "Time:                        16:43:17   Log-Likelihood:                -31222.\n",
      "converged:                       True   LL-Null:                       -38250.\n",
      "Covariance Type:            nonrobust   LLR p-value:                     0.000\n",
      "==============================================================================\n",
      "                 coef    std err          z      P>|z|      [0.025      0.975]\n",
      "------------------------------------------------------------------------------\n",
      "x1             0.8253      0.016     50.641      0.000       0.793       0.857\n",
      "x2             0.2348      0.014     16.469      0.000       0.207       0.263\n",
      "x3             0.3460      0.012     29.480      0.000       0.323       0.369\n",
      "x4            -0.0719      0.011     -6.400      0.000      -0.094      -0.050\n",
      "x5            -0.0319      0.010     -3.063      0.002      -0.052      -0.012\n",
      "x6            -0.0470      0.011     -4.469      0.000      -0.068      -0.026\n",
      "x7            -0.0875      0.010     -9.053      0.000      -0.106      -0.069\n",
      "x8             0.1368      0.011     12.056      0.000       0.115       0.159\n",
      "x9             0.3584      0.010     35.384      0.000       0.339       0.378\n",
      "==============================================================================\n"
     ]
    }
   ],
   "source": [
    "# Criando a primeira versão modelo de Regressão Logística com StatsModels\n",
    "\n",
    "# Cria o objeto\n",
    "logit_obj_v1 = sm.Logit(y_treino, X_treino_scaled)\n",
    "\n",
    "# Cria o modelo\n",
    "logit_modelo_v1 = logit_obj_v1.fit()\n",
    "\n",
    "# Print do resultado\n",
    "print(logit_modelo_v1.summary())"
   ]
  },
  {
   "cell_type": "markdown",
   "metadata": {},
   "source": [
    "## Modelo 1 - Extremely Randomized Trees¶"
   ]
  },
  {
   "cell_type": "code",
   "execution_count": 56,
   "metadata": {},
   "outputs": [
    {
     "data": {
      "text/plain": [
       "ExtraTreesClassifier(random_state=121)"
      ]
     },
     "execution_count": 56,
     "metadata": {},
     "output_type": "execute_result"
    }
   ],
   "source": [
    "clf = ExtraTreesClassifier(n_estimators=100, random_state=121)\n",
    "clf.fit(X_treino_scaled, y_treino)"
   ]
  },
  {
   "cell_type": "code",
   "execution_count": 57,
   "metadata": {},
   "outputs": [],
   "source": [
    "resultadov1 = clf.predict(X_teste_scaled)"
   ]
  },
  {
   "cell_type": "code",
   "execution_count": 58,
   "metadata": {},
   "outputs": [
    {
     "name": "stdout",
     "output_type": "stream",
     "text": [
      "              precision    recall  f1-score   support\n",
      "\n",
      "           0       0.69      0.69      0.69      7023\n",
      "           1       0.68      0.68      0.68      6774\n",
      "\n",
      "    accuracy                           0.69     13797\n",
      "   macro avg       0.69      0.69      0.69     13797\n",
      "weighted avg       0.69      0.69      0.69     13797\n",
      "\n"
     ]
    }
   ],
   "source": [
    "print(classification_report(y_teste, resultadov1))"
   ]
  },
  {
   "cell_type": "markdown",
   "metadata": {},
   "source": [
    "## Otimização de Hiperparâmetros"
   ]
  },
  {
   "cell_type": "markdown",
   "metadata": {},
   "source": [
    "#GridSearchCV para testes de Hyperparametros\n",
    "from sklearn.model_selection import GridSearchCV\n",
    "\n",
    "#Lista de possíveis valores de estimators ou quantidade de árvores .\n",
    "valores_estimators = [10, 20, 50, 100, 150]\n",
    "\n",
    "#Lista de possíveis valores para o critério de divisão.\n",
    "valores_criterion = ['gini','entropy']\n",
    "\n",
    "#Lista de possíveis valores para a profundidade máxima de cada árvore\n",
    "valores_max_depth = [5,10, 20, 50, 100]\n",
    "\n",
    "#Lista de possíveis valores para os parametros min_samples_split e min_samples_leaf.\n",
    "valores_min_samples_split = [2, 5, 10,15] \n",
    "valores_min_samples_leaf = [1, 5, 10,15]\n",
    "\n",
    "#Define um dicionário que recebe as listas de parâmetros e valores.\n",
    "parametros_grid = dict(n_estimators=valores_estimators, criterion=valores_criterion, max_depth=valores_max_depth, min_samples_split=valores_min_samples_split, min_samples_leaf=valores_min_samples_leaf )\n",
    "\n",
    "#Instancia o GridSearch com o modelo a ser utilizado, parametros, número de folds e scoring.\n",
    "et = ExtraTreesClassifier() \n",
    "grid = GridSearchCV(et, parametros_grid, cv=5, scoring='accuracy')\n",
    "\n",
    "#Aplica o GridSearch passando as features e classes\n",
    "grid.fit(X_treino_scaled,y_treino)\n",
    "\n"
   ]
  },
  {
   "cell_type": "code",
   "execution_count": 59,
   "metadata": {},
   "outputs": [
    {
     "data": {
      "text/plain": [
       "ExtraTreesClassifier(criterion='entropy', max_depth=20, min_samples_split=15,\n",
       "                     n_estimators=150, random_state=121)"
      ]
     },
     "execution_count": 59,
     "metadata": {},
     "output_type": "execute_result"
    }
   ],
   "source": [
    "clf = ExtraTreesClassifier(criterion = 'entropy', n_estimators=150, \n",
    "                           max_depth= 20,\n",
    "                             min_samples_leaf= 1,\n",
    "                             min_samples_split= 15,random_state=121)\n",
    "clf.fit(X_treino_scaled, y_treino)"
   ]
  },
  {
   "cell_type": "code",
   "execution_count": 60,
   "metadata": {},
   "outputs": [],
   "source": [
    "resultado_extra= clf.predict(X_teste_scaled)"
   ]
  },
  {
   "cell_type": "code",
   "execution_count": 61,
   "metadata": {},
   "outputs": [
    {
     "name": "stdout",
     "output_type": "stream",
     "text": [
      "              precision    recall  f1-score   support\n",
      "\n",
      "           0       0.72      0.76      0.74      7023\n",
      "           1       0.74      0.69      0.71      6774\n",
      "\n",
      "    accuracy                           0.73     13797\n",
      "   macro avg       0.73      0.73      0.73     13797\n",
      "weighted avg       0.73      0.73      0.73     13797\n",
      "\n"
     ]
    }
   ],
   "source": [
    "print(classification_report(y_teste, resultado_extra))"
   ]
  },
  {
   "cell_type": "markdown",
   "metadata": {},
   "source": [
    "## Modelo 2 - Adaboost"
   ]
  },
  {
   "cell_type": "code",
   "execution_count": 62,
   "metadata": {},
   "outputs": [],
   "source": [
    "# Cria o modelo\n",
    "ab = AdaBoostClassifier(random_state = 123)\n",
    "\n",
    "# Grid de parâmetros\n",
    "gridparam_ab = {'n_estimators': [300,500,800,1000], 'learning_rate': [0.01,0.3,0.5,0.7],}\n",
    "\n",
    "# Grid Search\n",
    "modelo_ab = GridSearchCV(ab, cv = 3, param_grid = gridparam_ab)\n",
    "\n",
    "# Treinamento com Grid Search\n",
    "modelo_ab.fit(X_treino_scaled, y_treino)\n",
    "\n",
    "# Previsões de classe\n",
    "ab_Y_pred = modelo_ab.predict(X_teste_scaled)\n",
    "\n",
    "# Previsões de probabilidade\n",
    "ab_predict_proba = modelo_ab.predict_proba(X_teste_scaled)[:,1] "
   ]
  },
  {
   "cell_type": "code",
   "execution_count": 63,
   "metadata": {},
   "outputs": [
    {
     "name": "stdout",
     "output_type": "stream",
     "text": [
      "Acurácia do Modelo Adaboost (%): 72.37080524751758\n"
     ]
    }
   ],
   "source": [
    "# Verificando a acurácia do modelo\n",
    "\n",
    "# Calcula o score com dados de teste\n",
    "ab_accuracy = modelo_ab.score(X_teste_scaled, y_teste) * 100\n",
    "\n",
    "# Print\n",
    "print(\"Acurácia do Modelo Adaboost (%):\", ab_accuracy)"
   ]
  },
  {
   "cell_type": "code",
   "execution_count": 64,
   "metadata": {},
   "outputs": [
    {
     "name": "stdout",
     "output_type": "stream",
     "text": [
      "              precision    recall  f1-score   support\n",
      "\n",
      "           0       0.70      0.80      0.75      7023\n",
      "           1       0.75      0.65      0.70      6774\n",
      "\n",
      "    accuracy                           0.72     13797\n",
      "   macro avg       0.73      0.72      0.72     13797\n",
      "weighted avg       0.73      0.72      0.72     13797\n",
      "\n"
     ]
    }
   ],
   "source": [
    "print(classification_report(y_teste, ab_Y_pred))"
   ]
  },
  {
   "cell_type": "code",
   "execution_count": 65,
   "metadata": {},
   "outputs": [
    {
     "data": {
      "text/plain": [
       "Text(0.5, 1.0, 'Acurácia: 0.7237080524751758')"
      ]
     },
     "execution_count": 65,
     "metadata": {},
     "output_type": "execute_result"
    },
    {
     "data": {
      "image/png": "[encoded data removed]",
      "text/plain": [
       "<Figure size 432x288 with 2 Axes>"
      ]
     },
     "metadata": {
      "needs_background": "light"
     },
     "output_type": "display_data"
    }
   ],
   "source": [
    "# Matriz de Confusão\n",
    "sns.heatmap(confusion_matrix(y_teste, ab_Y_pred), \n",
    "            annot = True, \n",
    "            fmt = \".3f\", \n",
    "            linewidths = .5, \n",
    "            square = True, \n",
    "            cmap = 'spring')\n",
    "\n",
    "# Labels e Títulos\n",
    "plt.ylabel('Label Verdadeiro');\n",
    "plt.xlabel('Label Previsto');\n",
    "all_sample_title = 'Acurácia: {0}'.format(modelo_ab.score(X_teste_scaled, y_teste))\n",
    "plt.title(all_sample_title, size = 15)"
   ]
  },
  {
   "cell_type": "markdown",
   "metadata": {},
   "source": [
    "## Modelo 3 -  XGboost"
   ]
  },
  {
   "cell_type": "code",
   "execution_count": 66,
   "metadata": {},
   "outputs": [
    {
     "data": {
      "text/plain": [
       "XGBClassifier(gamma=0.1, learning_rate=0.01, max_depth=5, min_child_weight=5,\n",
       "              n_estimators=1000)"
      ]
     },
     "execution_count": 66,
     "metadata": {},
     "output_type": "execute_result"
    }
   ],
   "source": [
    "import xgboost as xgb\n",
    "from xgboost import XGBClassifier\n",
    "from sklearn.metrics import roc_auc_score\n",
    "\n",
    "modelo_xg = xgb.XGBClassifier(learning_rate = 0.01, \n",
    "                              max_depth = 5, \n",
    "                              n_estimators = 1000,\n",
    "                             min_child_weight = 5,\n",
    "                             gamma = 0.1)\n",
    "modelo_xg.fit(X_treino_scaled,y_treino)"
   ]
  },
  {
   "cell_type": "code",
   "execution_count": 67,
   "metadata": {},
   "outputs": [],
   "source": [
    "resultado2 = modelo_xg.predict(X_teste_scaled)"
   ]
  },
  {
   "cell_type": "code",
   "execution_count": 68,
   "metadata": {},
   "outputs": [
    {
     "name": "stdout",
     "output_type": "stream",
     "text": [
      "              precision    recall  f1-score   support\n",
      "\n",
      "           0       0.72      0.77      0.74      7023\n",
      "           1       0.74      0.69      0.71      6774\n",
      "\n",
      "    accuracy                           0.73     13797\n",
      "   macro avg       0.73      0.73      0.73     13797\n",
      "weighted avg       0.73      0.73      0.73     13797\n",
      "\n"
     ]
    }
   ],
   "source": [
    "print(classification_report(y_teste, resultado2))"
   ]
  },
  {
   "cell_type": "code",
   "execution_count": null,
   "metadata": {},
   "outputs": [],
   "source": []
  },
  {
   "cell_type": "code",
   "execution_count": 69,
   "metadata": {},
   "outputs": [],
   "source": [
    "# Cria o modelo\n",
    "xb = XGBClassifier(random_state = 123)\n",
    "\n",
    "# Grid de parâmetros\n",
    "gridparam_xb = {'n_estimators': [300,500,1000], \n",
    "                'learning_rate': [0.01,0.1,0.5],\n",
    "               'max_depth ': [6,10,15,20],\n",
    "               'gamma': [0,0.1,0.5]\n",
    "               }\n",
    "\n",
    "# Grid Search\n",
    "modelo_xb = GridSearchCV(xb, cv = 3, param_grid = gridparam_xb)\n",
    "\n",
    "# Treinamento com Grid Search\n",
    "modelo_xb.fit(X_treino_scaled, y_treino)\n",
    "\n",
    "# Previsões de classe\n",
    "xb_Y_pred = modelo_xb.predict(X_teste_scaled)\n",
    "\n",
    "# Previsões de probabilidade\n",
    "xb_predict_proba = modelo_xb.predict_proba(X_teste_scaled)[:,1] "
   ]
  },
  {
   "cell_type": "code",
   "execution_count": 84,
   "metadata": {},
   "outputs": [
    {
     "data": {
      "text/plain": [
       "{'gamma': 0.1, 'learning_rate': 0.1, 'max_depth ': 6, 'n_estimators': 500}"
      ]
     },
     "execution_count": 84,
     "metadata": {},
     "output_type": "execute_result"
    }
   ],
   "source": [
    "modelo_xb.best_params_\n"
   ]
  },
  {
   "cell_type": "code",
   "execution_count": 83,
   "metadata": {},
   "outputs": [
    {
     "data": {
      "text/plain": [
       "0.7363824104034182"
      ]
     },
     "execution_count": 83,
     "metadata": {},
     "output_type": "execute_result"
    }
   ],
   "source": [
    "modelo_xb.best_score_"
   ]
  },
  {
   "cell_type": "code",
   "execution_count": 71,
   "metadata": {},
   "outputs": [
    {
     "name": "stdout",
     "output_type": "stream",
     "text": [
      "0.7279515730107087\n"
     ]
    }
   ],
   "source": [
    "# Score AUC\n",
    "print(roc_auc_score(y_teste, resultado2))\n"
   ]
  },
  {
   "cell_type": "code",
   "execution_count": 72,
   "metadata": {},
   "outputs": [
    {
     "data": {
      "image/png": "[encoded data removed]",
      "text/plain": [
       "<Figure size 432x288 with 1 Axes>"
      ]
     },
     "metadata": {
      "needs_background": "light"
     },
     "output_type": "display_data"
    }
   ],
   "source": [
    "# Calcula a Curva ROC para cada classe\n",
    "\n",
    "skplt.metrics.plot_roc_curve(y_teste, resultado2_prob)\n",
    "plt.show()"
   ]
  },
  {
   "cell_type": "code",
   "execution_count": 73,
   "metadata": {},
   "outputs": [
    {
     "data": {
      "text/html": [
       "<div>\n",
       "<style scoped>\n",
       "    .dataframe tbody tr th:only-of-type {\n",
       "        vertical-align: middle;\n",
       "    }\n",
       "\n",
       "    .dataframe tbody tr th {\n",
       "        vertical-align: top;\n",
       "    }\n",
       "\n",
       "    .dataframe thead th {\n",
       "        text-align: right;\n",
       "    }\n",
       "</style>\n",
       "<table border=\"1\" class=\"dataframe\">\n",
       "  <thead>\n",
       "    <tr style=\"text-align: right;\">\n",
       "      <th></th>\n",
       "      <th>ap_hi</th>\n",
       "      <th>ap_lo</th>\n",
       "      <th>cholesterol</th>\n",
       "      <th>gluc</th>\n",
       "      <th>smoke</th>\n",
       "      <th>alco</th>\n",
       "      <th>active</th>\n",
       "      <th>imc</th>\n",
       "      <th>age_anos</th>\n",
       "    </tr>\n",
       "  </thead>\n",
       "  <tbody>\n",
       "    <tr>\n",
       "      <th>43124</th>\n",
       "      <td>150</td>\n",
       "      <td>90</td>\n",
       "      <td>2</td>\n",
       "      <td>2</td>\n",
       "      <td>0</td>\n",
       "      <td>0</td>\n",
       "      <td>1</td>\n",
       "      <td>24.91</td>\n",
       "      <td>47.85</td>\n",
       "    </tr>\n",
       "    <tr>\n",
       "      <th>28269</th>\n",
       "      <td>140</td>\n",
       "      <td>100</td>\n",
       "      <td>1</td>\n",
       "      <td>1</td>\n",
       "      <td>0</td>\n",
       "      <td>1</td>\n",
       "      <td>1</td>\n",
       "      <td>33.09</td>\n",
       "      <td>43.97</td>\n",
       "    </tr>\n",
       "    <tr>\n",
       "      <th>4668</th>\n",
       "      <td>130</td>\n",
       "      <td>80</td>\n",
       "      <td>1</td>\n",
       "      <td>1</td>\n",
       "      <td>1</td>\n",
       "      <td>0</td>\n",
       "      <td>1</td>\n",
       "      <td>29.38</td>\n",
       "      <td>58.24</td>\n",
       "    </tr>\n",
       "    <tr>\n",
       "      <th>53441</th>\n",
       "      <td>160</td>\n",
       "      <td>100</td>\n",
       "      <td>3</td>\n",
       "      <td>1</td>\n",
       "      <td>0</td>\n",
       "      <td>0</td>\n",
       "      <td>1</td>\n",
       "      <td>35.76</td>\n",
       "      <td>57.59</td>\n",
       "    </tr>\n",
       "    <tr>\n",
       "      <th>27693</th>\n",
       "      <td>120</td>\n",
       "      <td>80</td>\n",
       "      <td>1</td>\n",
       "      <td>3</td>\n",
       "      <td>1</td>\n",
       "      <td>0</td>\n",
       "      <td>1</td>\n",
       "      <td>22.72</td>\n",
       "      <td>44.47</td>\n",
       "    </tr>\n",
       "    <tr>\n",
       "      <th>...</th>\n",
       "      <td>...</td>\n",
       "      <td>...</td>\n",
       "      <td>...</td>\n",
       "      <td>...</td>\n",
       "      <td>...</td>\n",
       "      <td>...</td>\n",
       "      <td>...</td>\n",
       "      <td>...</td>\n",
       "      <td>...</td>\n",
       "    </tr>\n",
       "    <tr>\n",
       "      <th>31208</th>\n",
       "      <td>110</td>\n",
       "      <td>70</td>\n",
       "      <td>1</td>\n",
       "      <td>2</td>\n",
       "      <td>0</td>\n",
       "      <td>0</td>\n",
       "      <td>1</td>\n",
       "      <td>22.89</td>\n",
       "      <td>41.79</td>\n",
       "    </tr>\n",
       "    <tr>\n",
       "      <th>36887</th>\n",
       "      <td>120</td>\n",
       "      <td>80</td>\n",
       "      <td>1</td>\n",
       "      <td>1</td>\n",
       "      <td>0</td>\n",
       "      <td>0</td>\n",
       "      <td>1</td>\n",
       "      <td>24.11</td>\n",
       "      <td>53.36</td>\n",
       "    </tr>\n",
       "    <tr>\n",
       "      <th>52009</th>\n",
       "      <td>120</td>\n",
       "      <td>80</td>\n",
       "      <td>2</td>\n",
       "      <td>1</td>\n",
       "      <td>0</td>\n",
       "      <td>0</td>\n",
       "      <td>1</td>\n",
       "      <td>26.89</td>\n",
       "      <td>54.49</td>\n",
       "    </tr>\n",
       "    <tr>\n",
       "      <th>57406</th>\n",
       "      <td>160</td>\n",
       "      <td>90</td>\n",
       "      <td>1</td>\n",
       "      <td>1</td>\n",
       "      <td>0</td>\n",
       "      <td>0</td>\n",
       "      <td>1</td>\n",
       "      <td>27.43</td>\n",
       "      <td>64.21</td>\n",
       "    </tr>\n",
       "    <tr>\n",
       "      <th>11756</th>\n",
       "      <td>160</td>\n",
       "      <td>90</td>\n",
       "      <td>2</td>\n",
       "      <td>1</td>\n",
       "      <td>1</td>\n",
       "      <td>0</td>\n",
       "      <td>1</td>\n",
       "      <td>28.16</td>\n",
       "      <td>59.65</td>\n",
       "    </tr>\n",
       "  </tbody>\n",
       "</table>\n",
       "<p>55186 rows × 9 columns</p>\n",
       "</div>"
      ],
      "text/plain": [
       "       ap_hi  ap_lo  cholesterol  gluc  smoke  alco  active    imc  age_anos\n",
       "43124    150     90            2     2      0     0       1  24.91     47.85\n",
       "28269    140    100            1     1      0     1       1  33.09     43.97\n",
       "4668     130     80            1     1      1     0       1  29.38     58.24\n",
       "53441    160    100            3     1      0     0       1  35.76     57.59\n",
       "27693    120     80            1     3      1     0       1  22.72     44.47\n",
       "...      ...    ...          ...   ...    ...   ...     ...    ...       ...\n",
       "31208    110     70            1     2      0     0       1  22.89     41.79\n",
       "36887    120     80            1     1      0     0       1  24.11     53.36\n",
       "52009    120     80            2     1      0     0       1  26.89     54.49\n",
       "57406    160     90            1     1      0     0       1  27.43     64.21\n",
       "11756    160     90            2     1      1     0       1  28.16     59.65\n",
       "\n",
       "[55186 rows x 9 columns]"
      ]
     },
     "execution_count": 73,
     "metadata": {},
     "output_type": "execute_result"
    }
   ],
   "source": [
    "X_treino"
   ]
  },
  {
   "cell_type": "markdown",
   "metadata": {},
   "source": [
    "## Modelo 4- Deep Learning"
   ]
  },
  {
   "cell_type": "code",
   "execution_count": 74,
   "metadata": {},
   "outputs": [],
   "source": [
    "# Cria o modelo\n",
    "modelo_dl = Sequential()"
   ]
  },
  {
   "cell_type": "code",
   "execution_count": 75,
   "metadata": {},
   "outputs": [],
   "source": [
    "# Adiciona as camadas ocultas\n",
    "modelo_dl.add(Dense(units = 26, kernel_initializer = 'uniform', activation = 'relu', input_dim = 9))\n",
    "modelo_dl.add(Dense(units = 64, kernel_initializer = 'uniform', activation = 'relu'))\n",
    "modelo_dl.add(Dense(units = 64, kernel_initializer = 'uniform', activation = 'relu'))\n",
    "modelo_dl.add(Dense(units = 64, kernel_initializer = 'uniform', activation = 'relu'))\n",
    "modelo_dl.add(Dense(units = 1, kernel_initializer = 'uniform', activation = 'sigmoid'))"
   ]
  },
  {
   "cell_type": "code",
   "execution_count": 76,
   "metadata": {},
   "outputs": [],
   "source": [
    "# Compila o modelo\n",
    "modelo_dl.compile(optimizer = 'adam', loss = 'binary_crossentropy', metrics = ['accuracy'])"
   ]
  },
  {
   "cell_type": "code",
   "execution_count": 77,
   "metadata": {},
   "outputs": [],
   "source": [
    "# Define o peso para as classes\n",
    "pesos_classes = {0:0.49, 1:0.51}"
   ]
  },
  {
   "cell_type": "code",
   "execution_count": 78,
   "metadata": {},
   "outputs": [
    {
     "name": "stdout",
     "output_type": "stream",
     "text": [
      "Epoch 1/100\n",
      "5519/5519 [==============================] - 5s 854us/step - loss: 0.2781 - accuracy: 0.7271\n",
      "Epoch 2/100\n",
      "5519/5519 [==============================] - 5s 818us/step - loss: 0.2736 - accuracy: 0.7334\n",
      "Epoch 3/100\n",
      "5519/5519 [==============================] - 5s 829us/step - loss: 0.2727 - accuracy: 0.7326\n",
      "Epoch 4/100\n",
      "5519/5519 [==============================] - 5s 844us/step - loss: 0.2721 - accuracy: 0.7326\n",
      "Epoch 5/100\n",
      "5519/5519 [==============================] - 5s 843us/step - loss: 0.2716 - accuracy: 0.7339\n",
      "Epoch 6/100\n",
      "5519/5519 [==============================] - 5s 839us/step - loss: 0.2714 - accuracy: 0.7351\n",
      "Epoch 7/100\n",
      "5519/5519 [==============================] - 5s 849us/step - loss: 0.2712 - accuracy: 0.7358\n",
      "Epoch 8/100\n",
      "5519/5519 [==============================] - 5s 854us/step - loss: 0.2711 - accuracy: 0.7352\n",
      "Epoch 9/100\n",
      "5519/5519 [==============================] - 5s 873us/step - loss: 0.2707 - accuracy: 0.7355\n",
      "Epoch 10/100\n",
      "5519/5519 [==============================] - 5s 879us/step - loss: 0.2707 - accuracy: 0.7371\n",
      "Epoch 11/100\n",
      "5519/5519 [==============================] - 5s 904us/step - loss: 0.2705 - accuracy: 0.7368\n",
      "Epoch 12/100\n",
      "5519/5519 [==============================] - 5s 885us/step - loss: 0.2704 - accuracy: 0.7357\n",
      "Epoch 13/100\n",
      "5519/5519 [==============================] - 5s 894us/step - loss: 0.2700 - accuracy: 0.7369\n",
      "Epoch 14/100\n",
      "5519/5519 [==============================] - 5s 903us/step - loss: 0.2700 - accuracy: 0.7369\n",
      "Epoch 15/100\n",
      "5519/5519 [==============================] - 5s 903us/step - loss: 0.2699 - accuracy: 0.7365\n",
      "Epoch 16/100\n",
      "5519/5519 [==============================] - 5s 912us/step - loss: 0.2697 - accuracy: 0.7368\n",
      "Epoch 17/100\n",
      "5519/5519 [==============================] - 5s 902us/step - loss: 0.2697 - accuracy: 0.7369\n",
      "Epoch 18/100\n",
      "5519/5519 [==============================] - 5s 904us/step - loss: 0.2695 - accuracy: 0.7371\n",
      "Epoch 19/100\n",
      "5519/5519 [==============================] - 5s 912us/step - loss: 0.2694 - accuracy: 0.7381\n",
      "Epoch 20/100\n",
      "5519/5519 [==============================] - 5s 901us/step - loss: 0.2695 - accuracy: 0.7379\n",
      "Epoch 21/100\n",
      "5519/5519 [==============================] - 5s 893us/step - loss: 0.2691 - accuracy: 0.7380\n",
      "Epoch 22/100\n",
      "5519/5519 [==============================] - 5s 892us/step - loss: 0.2691 - accuracy: 0.7373\n",
      "Epoch 23/100\n",
      "5519/5519 [==============================] - 5s 903us/step - loss: 0.2690 - accuracy: 0.7378\n",
      "Epoch 24/100\n",
      "5519/5519 [==============================] - 5s 908us/step - loss: 0.2688 - accuracy: 0.7380\n",
      "Epoch 25/100\n",
      "5519/5519 [==============================] - 5s 909us/step - loss: 0.2687 - accuracy: 0.7388\n",
      "Epoch 26/100\n",
      "5519/5519 [==============================] - 5s 921us/step - loss: 0.2686 - accuracy: 0.7379\n",
      "Epoch 27/100\n",
      "5519/5519 [==============================] - 5s 906us/step - loss: 0.2685 - accuracy: 0.7375\n",
      "Epoch 28/100\n",
      "5519/5519 [==============================] - 5s 916us/step - loss: 0.2685 - accuracy: 0.7388\n",
      "Epoch 29/100\n",
      "5519/5519 [==============================] - 5s 911us/step - loss: 0.2685 - accuracy: 0.7381\n",
      "Epoch 30/100\n",
      "5519/5519 [==============================] - 5s 934us/step - loss: 0.2683 - accuracy: 0.7391\n",
      "Epoch 31/100\n",
      "5519/5519 [==============================] - 5s 982us/step - loss: 0.2681 - accuracy: 0.7386\n",
      "Epoch 32/100\n",
      "5519/5519 [==============================] - 5s 990us/step - loss: 0.2681 - accuracy: 0.7396\n",
      "Epoch 33/100\n",
      "5519/5519 [==============================] - 5s 967us/step - loss: 0.2678 - accuracy: 0.7387\n",
      "Epoch 34/100\n",
      "5519/5519 [==============================] - 5s 936us/step - loss: 0.2679 - accuracy: 0.7392\n",
      "Epoch 35/100\n",
      "5519/5519 [==============================] - 5s 947us/step - loss: 0.2678 - accuracy: 0.7399\n",
      "Epoch 36/100\n",
      "5519/5519 [==============================] - 5s 937us/step - loss: 0.2677 - accuracy: 0.7397\n",
      "Epoch 37/100\n",
      "5519/5519 [==============================] - 5s 954us/step - loss: 0.2677 - accuracy: 0.7389\n",
      "Epoch 38/100\n",
      "5519/5519 [==============================] - 5s 938us/step - loss: 0.2675 - accuracy: 0.7400\n",
      "Epoch 39/100\n",
      "5519/5519 [==============================] - 5s 941us/step - loss: 0.2674 - accuracy: 0.7410\n",
      "Epoch 40/100\n",
      "5519/5519 [==============================] - 5s 935us/step - loss: 0.2673 - accuracy: 0.7403\n",
      "Epoch 41/100\n",
      "5519/5519 [==============================] - 5s 932us/step - loss: 0.2671 - accuracy: 0.7412\n",
      "Epoch 42/100\n",
      "5519/5519 [==============================] - 5s 930us/step - loss: 0.2671 - accuracy: 0.7412\n",
      "Epoch 43/100\n",
      "5519/5519 [==============================] - 5s 937us/step - loss: 0.2670 - accuracy: 0.7414\n",
      "Epoch 44/100\n",
      "5519/5519 [==============================] - 5s 937us/step - loss: 0.2667 - accuracy: 0.7410\n",
      "Epoch 45/100\n",
      "5519/5519 [==============================] - 5s 944us/step - loss: 0.2668 - accuracy: 0.7415\n",
      "Epoch 46/100\n",
      "5519/5519 [==============================] - 5s 936us/step - loss: 0.2666 - accuracy: 0.7433\n",
      "Epoch 47/100\n",
      "5519/5519 [==============================] - 5s 933us/step - loss: 0.2667 - accuracy: 0.7414\n",
      "Epoch 48/100\n",
      "5519/5519 [==============================] - 5s 939us/step - loss: 0.2666 - accuracy: 0.7413\n",
      "Epoch 49/100\n",
      "5519/5519 [==============================] - 5s 935us/step - loss: 0.2667 - accuracy: 0.7417\n",
      "Epoch 50/100\n",
      "5519/5519 [==============================] - 5s 934us/step - loss: 0.2665 - accuracy: 0.7410\n",
      "Epoch 51/100\n",
      "5519/5519 [==============================] - 5s 936us/step - loss: 0.2665 - accuracy: 0.7419\n",
      "Epoch 52/100\n",
      "5519/5519 [==============================] - 5s 946us/step - loss: 0.2664 - accuracy: 0.7419\n",
      "Epoch 53/100\n",
      "5519/5519 [==============================] - 5s 935us/step - loss: 0.2663 - accuracy: 0.7420\n",
      "Epoch 54/100\n",
      "5519/5519 [==============================] - 5s 942us/step - loss: 0.2662 - accuracy: 0.7419\n",
      "Epoch 55/100\n",
      "5519/5519 [==============================] - 5s 936us/step - loss: 0.2662 - accuracy: 0.7412\n",
      "Epoch 56/100\n",
      "5519/5519 [==============================] - 5s 929us/step - loss: 0.2661 - accuracy: 0.7429\n",
      "Epoch 57/100\n",
      "5519/5519 [==============================] - 5s 935us/step - loss: 0.2656 - accuracy: 0.7435\n",
      "Epoch 58/100\n",
      "5519/5519 [==============================] - 5s 935us/step - loss: 0.2660 - accuracy: 0.7430\n",
      "Epoch 59/100\n",
      "5519/5519 [==============================] - 5s 938us/step - loss: 0.2656 - accuracy: 0.7428\n",
      "Epoch 60/100\n",
      "5519/5519 [==============================] - 5s 937us/step - loss: 0.2656 - accuracy: 0.7428\n",
      "Epoch 61/100\n",
      "5519/5519 [==============================] - 5s 940us/step - loss: 0.2655 - accuracy: 0.7429\n",
      "Epoch 62/100\n",
      "5519/5519 [==============================] - 5s 931us/step - loss: 0.2652 - accuracy: 0.7444\n",
      "Epoch 63/100\n",
      "5519/5519 [==============================] - 5s 936us/step - loss: 0.2651 - accuracy: 0.7428\n",
      "Epoch 64/100\n",
      "5519/5519 [==============================] - 5s 936us/step - loss: 0.2652 - accuracy: 0.7431\n",
      "Epoch 65/100\n",
      "5519/5519 [==============================] - 5s 936us/step - loss: 0.2650 - accuracy: 0.7432\n",
      "Epoch 66/100\n",
      "5519/5519 [==============================] - 5s 933us/step - loss: 0.2649 - accuracy: 0.7444\n",
      "Epoch 67/100\n",
      "5519/5519 [==============================] - 5s 933us/step - loss: 0.2647 - accuracy: 0.7441\n",
      "Epoch 68/100\n",
      "5519/5519 [==============================] - 5s 939us/step - loss: 0.2648 - accuracy: 0.7449\n",
      "Epoch 69/100\n",
      "5519/5519 [==============================] - 5s 938us/step - loss: 0.2644 - accuracy: 0.7447\n",
      "Epoch 70/100\n",
      "5519/5519 [==============================] - 5s 933us/step - loss: 0.2644 - accuracy: 0.7449\n",
      "Epoch 71/100\n",
      "5519/5519 [==============================] - 5s 893us/step - loss: 0.2644 - accuracy: 0.7442\n",
      "Epoch 72/100\n",
      "5519/5519 [==============================] - 5s 861us/step - loss: 0.2643 - accuracy: 0.7450\n",
      "Epoch 73/100\n",
      "5519/5519 [==============================] - 5s 880us/step - loss: 0.2641 - accuracy: 0.7449\n",
      "Epoch 74/100\n",
      "5519/5519 [==============================] - 5s 885us/step - loss: 0.2641 - accuracy: 0.7457\n",
      "Epoch 75/100\n",
      "5519/5519 [==============================] - 5s 911us/step - loss: 0.2639 - accuracy: 0.7451\n",
      "Epoch 76/100\n",
      "5519/5519 [==============================] - 5s 896us/step - loss: 0.2642 - accuracy: 0.7450\n",
      "Epoch 77/100\n",
      "5519/5519 [==============================] - 5s 896us/step - loss: 0.2637 - accuracy: 0.7464\n",
      "Epoch 78/100\n",
      "5519/5519 [==============================] - 5s 901us/step - loss: 0.2637 - accuracy: 0.7459\n",
      "Epoch 79/100\n",
      "5519/5519 [==============================] - 5s 886us/step - loss: 0.2637 - accuracy: 0.7456\n",
      "Epoch 80/100\n",
      "5519/5519 [==============================] - 5s 880us/step - loss: 0.2635 - accuracy: 0.7450\n",
      "Epoch 81/100\n",
      "5519/5519 [==============================] - 5s 894us/step - loss: 0.2634 - accuracy: 0.7462\n",
      "Epoch 82/100\n",
      "5519/5519 [==============================] - 5s 911us/step - loss: 0.2635 - accuracy: 0.7457\n",
      "Epoch 83/100\n",
      "5519/5519 [==============================] - 5s 934us/step - loss: 0.2633 - accuracy: 0.7476\n",
      "Epoch 84/100\n",
      "5519/5519 [==============================] - 5s 936us/step - loss: 0.2631 - accuracy: 0.7464\n",
      "Epoch 85/100\n",
      "5519/5519 [==============================] - 5s 950us/step - loss: 0.2630 - accuracy: 0.7465\n",
      "Epoch 86/100\n",
      "5519/5519 [==============================] - 5s 968us/step - loss: 0.2631 - accuracy: 0.7471\n",
      "Epoch 87/100\n",
      "5519/5519 [==============================] - 5s 956us/step - loss: 0.2635 - accuracy: 0.7466\n",
      "Epoch 88/100\n",
      "5519/5519 [==============================] - 5s 956us/step - loss: 0.2631 - accuracy: 0.7463\n",
      "Epoch 89/100\n",
      "5519/5519 [==============================] - 5s 946us/step - loss: 0.2627 - accuracy: 0.7473\n",
      "Epoch 90/100\n",
      "5519/5519 [==============================] - 5s 960us/step - loss: 0.2628 - accuracy: 0.7475\n",
      "Epoch 91/100\n",
      "5519/5519 [==============================] - 5s 948us/step - loss: 0.2626 - accuracy: 0.7474\n",
      "Epoch 92/100\n",
      "5519/5519 [==============================] - 5s 959us/step - loss: 0.2624 - accuracy: 0.7471\n",
      "Epoch 93/100\n",
      "5519/5519 [==============================] - 5s 953us/step - loss: 0.2623 - accuracy: 0.7473\n",
      "Epoch 94/100\n",
      "5519/5519 [==============================] - 5s 958us/step - loss: 0.2624 - accuracy: 0.7482\n",
      "Epoch 95/100\n",
      "5519/5519 [==============================] - 5s 977us/step - loss: 0.2620 - accuracy: 0.7489\n",
      "Epoch 96/100\n",
      "5519/5519 [==============================] - 5s 960us/step - loss: 0.2621 - accuracy: 0.7485\n",
      "Epoch 97/100\n",
      "5519/5519 [==============================] - 5s 946us/step - loss: 0.2620 - accuracy: 0.7476\n",
      "Epoch 98/100\n",
      "5519/5519 [==============================] - 5s 952us/step - loss: 0.2618 - accuracy: 0.7488\n",
      "Epoch 99/100\n",
      "5519/5519 [==============================] - 5s 944us/step - loss: 0.2618 - accuracy: 0.7484\n",
      "Epoch 100/100\n",
      "5519/5519 [==============================] - 5s 959us/step - loss: 0.2617 - accuracy: 0.7476\n"
     ]
    },
    {
     "data": {
      "text/plain": [
       "<tensorflow.python.keras.callbacks.History at 0x7f18825b1d10>"
      ]
     },
     "execution_count": 78,
     "metadata": {},
     "output_type": "execute_result"
    }
   ],
   "source": [
    "# Treinamento do modelo\n",
    "modelo_dl.fit(X_treino_scaled, y_treino, batch_size = 10, epochs = 100, class_weight = pesos_classes)"
   ]
  },
  {
   "cell_type": "code",
   "execution_count": 79,
   "metadata": {},
   "outputs": [],
   "source": [
    "# Realiza as previsões\n",
    "dl_Y_pred = modelo_dl.predict(X_teste_scaled)"
   ]
  },
  {
   "cell_type": "code",
   "execution_count": 80,
   "metadata": {},
   "outputs": [],
   "source": [
    "# Converte as probabilidades em classe\n",
    "dl_t_Y_pred = (dl_Y_pred > 0.5)"
   ]
  },
  {
   "cell_type": "code",
   "execution_count": 81,
   "metadata": {},
   "outputs": [
    {
     "data": {
      "text/plain": [
       "array([[1],\n",
       "       [1],\n",
       "       [1],\n",
       "       ...,\n",
       "       [0],\n",
       "       [1],\n",
       "       [0]])"
      ]
     },
     "execution_count": 81,
     "metadata": {},
     "output_type": "execute_result"
    }
   ],
   "source": [
    "# Agora convertemos os valores booleanos em classe binária, 0 ou 1\n",
    "Y_dl_pred = np.where(dl_t_Y_pred == 'True', 1, dl_t_Y_pred)\n",
    "Y_dl_pred"
   ]
  },
  {
   "cell_type": "code",
   "execution_count": 82,
   "metadata": {},
   "outputs": [
    {
     "name": "stdout",
     "output_type": "stream",
     "text": [
      "[[5424 1599]\n",
      " [2223 4551]]\n",
      "\n",
      "Acurácia :  0.7229832572298326\n",
      "Sensibilidade : 0.6718334809565988\n",
      "Especificidade : 0.7723195215719778\n"
     ]
    }
   ],
   "source": [
    "# Cria e imprime a matriz de confusão\n",
    "conf_matriz_dl = confusion_matrix(y_teste, Y_dl_pred)\n",
    "print(conf_matriz_dl)\n",
    "\n",
    "# Calcula o total \n",
    "total1 = sum(sum(conf_matriz_dl))\n",
    "\n",
    "# Calcula a acurácia\n",
    "accuracy_dl = (conf_matriz_dl[0,0] + conf_matriz_dl[1,1]) / total1\n",
    "    \n",
    "# Calcula especificidade e sensibilidade\n",
    "speci_dl = conf_matriz_dl[0,0] / (conf_matriz_dl[0,0] + conf_matriz_dl[0,1])\n",
    "sensi_dl = conf_matriz_dl[1,1] / (conf_matriz_dl[1,0] + conf_matriz_dl[1,1])\n",
    "\n",
    "# Print\n",
    "print('\\nAcurácia : ', accuracy_dl)\n",
    "print('Sensibilidade :', sensi_dl)\n",
    "print('Especificidade :', speci_dl)"
   ]
  },
  {
   "cell_type": "code",
   "execution_count": null,
   "metadata": {},
   "outputs": [],
   "source": []
  },
  {
   "cell_type": "code",
   "execution_count": null,
   "metadata": {},
   "outputs": [],
   "source": []
  }
 ],
 "metadata": {
  "kernelspec": {
   "display_name": "Python 3",
   "language": "python",
   "name": "python3"
  },
  "language_info": {
   "codemirror_mode": {
    "name": "ipython",
    "version": 3
   },
   "file_extension": ".py",
   "mimetype": "text/x-python",
   "name": "python",
   "nbconvert_exporter": "python",
   "pygments_lexer": "ipython3",
   "version": "3.7.6"
  }
 },
 "nbformat": 4,
 "nbformat_minor": 4
}
